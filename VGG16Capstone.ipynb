{
 "cells": [
  {
   "cell_type": "code",
   "execution_count": null,
   "id": "cd1a0cb6-d7e4-4ff0-a327-698548491860",
   "metadata": {},
   "outputs": [],
   "source": [
    "import skillsnetwork \n",
    "from tensorflow.keras.preprocessing.image import ImageDataGenerator\n",
    "import keras\n",
    "from keras.models import Sequential\n",
    "from keras.layers import Dense\n",
    "from keras.applications import VGG16\n",
    "from keras.applications.vgg16 import preprocess_input"
   ]
  },
  {
   "cell_type": "code",
   "execution_count": null,
   "id": "14049684-85d4-45ae-97e3-db884cdd2c54",
   "metadata": {
    "scrolled": true
   },
   "outputs": [],
   "source": [
    "await skillsnetwork.prepare(\"https://cf-courses-data.s3.us.cloud-object-storage.appdomain.cloud/IBMDeveloperSkillsNetwork-DL0321EN-SkillsNetwork/concrete_data_week3.zip\", overwrite=True)"
   ]
  },
  {
   "cell_type": "code",
   "execution_count": null,
   "id": "f619ff08-1524-4520-92f6-43fb0aaa57ba",
   "metadata": {},
   "outputs": [],
   "source": [
    "num_classes = 2\n",
    "image_resize = 224\n",
    "batch_size_training = 100\n",
    "batch_size_validation = 100"
   ]
  },
  {
   "cell_type": "code",
   "execution_count": null,
   "id": "24950d13-c366-4efd-b0c5-bfde4786eefe",
   "metadata": {},
   "outputs": [],
   "source": [
    "data_generator = ImageDataGenerator(preprocessing_function=preprocess_input)\n",
    "train_generator = data_generator.flow_from_directory('concrete_data_week3/train',\n",
    "    target_size=(image_resize, image_resize), batch_size=batch_size_training, class_mode='categorical')"
   ]
  },
  {
   "cell_type": "code",
   "execution_count": null,
   "id": "d932327e-9b23-406b-99e2-18a2110c194f",
   "metadata": {},
   "outputs": [],
   "source": [
    "validation_generator = data_generator.flow_from_directory('concrete_data_week3/valid',\n",
    "    target_size=(image_resize, image_resize), batch_size=batch_size_validation, class_mode='categorical')"
   ]
  },
  {
   "cell_type": "code",
   "execution_count": null,
   "id": "2cd37cbd-27e4-4826-ab70-4ee48743b6ad",
   "metadata": {
    "scrolled": true
   },
   "outputs": [],
   "source": [
    "model = Sequential()\n",
    "model.add(VGG16(include_top=False, pooling='avg', weights='imagenet'))\n",
    "model.layers[0].trainable = False\n",
    "model.add(Dense(num_classes, activation='softmax'))\n",
    "model.summary()"
   ]
  },
  {
   "cell_type": "code",
   "execution_count": null,
   "id": "48e0cb79-353f-4cba-8773-d6c7baadb4d9",
   "metadata": {},
   "outputs": [],
   "source": [
    "model.compile(optimizer='adam', loss='categorical_crossentropy', metrics=['accuracy'])"
   ]
  },
  {
   "cell_type": "code",
   "execution_count": null,
   "id": "e0a96d64-632a-4d46-af68-749837fe052d",
   "metadata": {},
   "outputs": [],
   "source": [
    "num_epochs = 2\n",
    "fit_history = model.fit(train_generator, epochs=num_epochs, validation_data=validation_generator, verbose=1)"
   ]
  },
  {
   "cell_type": "code",
   "execution_count": null,
   "id": "f8446971-a9d0-4926-a396-e66268559712",
   "metadata": {},
   "outputs": [],
   "source": [
    "model.save('classifier_vgg16_ex.keras')"
   ]
  },
  {
   "cell_type": "code",
   "execution_count": null,
   "id": "034d442d-75f7-4b19-a498-06de9eb3adda",
   "metadata": {},
   "outputs": [],
   "source": []
  }
 ],
 "metadata": {
  "kernelspec": {
   "display_name": "Python 3 (ipykernel)",
   "language": "python",
   "name": "python3"
  },
  "language_info": {
   "codemirror_mode": {
    "name": "ipython",
    "version": 3
   },
   "file_extension": ".py",
   "mimetype": "text/x-python",
   "name": "python",
   "nbconvert_exporter": "python",
   "pygments_lexer": "ipython3",
   "version": "3.12.2"
  }
 },
 "nbformat": 4,
 "nbformat_minor": 5
}
